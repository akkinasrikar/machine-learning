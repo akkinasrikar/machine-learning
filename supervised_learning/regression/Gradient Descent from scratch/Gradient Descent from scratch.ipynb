{
 "cells": [
  {
   "cell_type": "markdown",
   "metadata": {},
   "source": [
    "# Linear Regression using Gradient Descent"
   ]
  },
  {
   "cell_type": "code",
   "execution_count": 1,
   "metadata": {},
   "outputs": [],
   "source": [
    "import numpy as np\n",
    "import pandas as pd\n",
    "import matplotlib.pyplot as plt\n",
    "from matplotlib import style\n",
    "style.use('fivethirtyeight')"
   ]
  },
  {
   "cell_type": "code",
   "execution_count": 2,
   "metadata": {},
   "outputs": [],
   "source": [
    "salary_data=pd.read_csv('salary.csv')"
   ]
  },
  {
   "cell_type": "code",
   "execution_count": 3,
   "metadata": {},
   "outputs": [
    {
     "data": {
      "text/html": [
       "<div>\n",
       "<style scoped>\n",
       "    .dataframe tbody tr th:only-of-type {\n",
       "        vertical-align: middle;\n",
       "    }\n",
       "\n",
       "    .dataframe tbody tr th {\n",
       "        vertical-align: top;\n",
       "    }\n",
       "\n",
       "    .dataframe thead th {\n",
       "        text-align: right;\n",
       "    }\n",
       "</style>\n",
       "<table border=\"1\" class=\"dataframe\">\n",
       "  <thead>\n",
       "    <tr style=\"text-align: right;\">\n",
       "      <th></th>\n",
       "      <th>YearsExperience</th>\n",
       "      <th>Salary</th>\n",
       "      <th>age</th>\n",
       "      <th>company_change</th>\n",
       "      <th>type</th>\n",
       "    </tr>\n",
       "  </thead>\n",
       "  <tbody>\n",
       "    <tr>\n",
       "      <th>0</th>\n",
       "      <td>1.1</td>\n",
       "      <td>39343</td>\n",
       "      <td>21</td>\n",
       "      <td>1</td>\n",
       "      <td>junior</td>\n",
       "    </tr>\n",
       "    <tr>\n",
       "      <th>1</th>\n",
       "      <td>1.3</td>\n",
       "      <td>46205</td>\n",
       "      <td>31</td>\n",
       "      <td>0</td>\n",
       "      <td>middle</td>\n",
       "    </tr>\n",
       "    <tr>\n",
       "      <th>2</th>\n",
       "      <td>1.5</td>\n",
       "      <td>37731</td>\n",
       "      <td>29</td>\n",
       "      <td>1</td>\n",
       "      <td>middle</td>\n",
       "    </tr>\n",
       "    <tr>\n",
       "      <th>3</th>\n",
       "      <td>2.0</td>\n",
       "      <td>43525</td>\n",
       "      <td>30</td>\n",
       "      <td>1</td>\n",
       "      <td>middle</td>\n",
       "    </tr>\n",
       "    <tr>\n",
       "      <th>4</th>\n",
       "      <td>2.2</td>\n",
       "      <td>39891</td>\n",
       "      <td>27</td>\n",
       "      <td>1</td>\n",
       "      <td>middle</td>\n",
       "    </tr>\n",
       "  </tbody>\n",
       "</table>\n",
       "</div>"
      ],
      "text/plain": [
       "   YearsExperience  Salary  age  company_change    type\n",
       "0              1.1   39343   21               1  junior\n",
       "1              1.3   46205   31               0  middle\n",
       "2              1.5   37731   29               1  middle\n",
       "3              2.0   43525   30               1  middle\n",
       "4              2.2   39891   27               1  middle"
      ]
     },
     "execution_count": 3,
     "metadata": {},
     "output_type": "execute_result"
    }
   ],
   "source": [
    "salary_data.head()"
   ]
  },
  {
   "cell_type": "code",
   "execution_count": 4,
   "metadata": {},
   "outputs": [],
   "source": [
    "x=np.array(salary_data['YearsExperience'])\n",
    "y=np.array(salary_data['Salary'])\n",
    "l=len(x)"
   ]
  },
  {
   "cell_type": "code",
   "execution_count": 5,
   "metadata": {},
   "outputs": [],
   "source": [
    "from sklearn.model_selection import train_test_split"
   ]
  },
  {
   "cell_type": "code",
   "execution_count": 6,
   "metadata": {},
   "outputs": [],
   "source": [
    "x_train,x_test,y_train,y_test=train_test_split(x,y,random_state=6)\n",
    "lx=len(x_train)"
   ]
  },
  {
   "cell_type": "markdown",
   "metadata": {},
   "source": [
    "Gradient Descent formula\n",
    "\n",
    "$ \\displaystyle h_{\\theta}(x)=\\theta_0+\\theta_1x \\mbox{ and } J(\\theta_0,\\theta_1)=\\frac{1}{2m}\\sum_{i=1}^{m} \\left(h_{\\theta}(x^{(i)})-y^{(i)}\\right)^2 $\n",
    "\n",
    "$ \\displaystyle\\theta_j:=\\theta_j-\\alpha \\frac{\\partial}{\\partial\\theta_j}\\left(\\frac{1}{2m}\\sum_{i=1}^{m} \\left(\\theta_0+\\theta_1x^{(i)}-y^{(i)}\\right)^2 \\right) $\n",
    "\n",
    "$ \\displaystyle \\frac{\\partial}{\\partial\\theta_0}\\left(\\frac{1}{2m}\\sum_{i=1}^{m} \\left(\\theta_0+\\theta_1x^{(i)}-y^{(i)}\\right)^2 \\right) = \\frac{1}{m}\\sum_{i=1}^{m} \\left(\\theta_0+\\theta_1x^{(i)}-y^{(i)}\\right) = \\frac{1}{m}\\sum_{i=1}^{m} \\left(h_{\\theta}(x^{(i)})-y^{(i)}\\right) $\n",
    "\n",
    "$ \\displaystyle \\frac{\\partial}{\\partial\\theta_1}\\left(\\frac{1}{2m}\\sum_{i=1}^{m} \\left(\\theta_0+\\theta_1x^{(i)}-y^{(i)}\\right)^2 \\right) = \\frac{1}{m}\\sum_{i=1}^{m} \\left(\\theta_0+\\theta_1x^{(i)}-y^{(i)}\\right).x^{(i)} = \\frac{1}{m}\\sum_{i=1}^{m} \\left(h_{\\theta}(x^{(i)})-y^{(i)}\\right).x^{(i)} $\n",
    "\n",
    "$ \\displaystyle\\mbox{ repeat until convergence }\\left\\{\\theta_j:=\\theta_j-\\alpha\\frac{\\partial}{\\partial\\theta_j}f(\\theta_0,\\theta_1)\\mbox{ for j=0,1} \\right\\} $"
   ]
  },
  {
   "cell_type": "code",
   "execution_count": 7,
   "metadata": {},
   "outputs": [],
   "source": [
    "m=0.1\n",
    "c=0.5\n",
    "alpha=0.01\n",
    "m_values=[]\n",
    "c_values=[]\n",
    "for i in range(4000):\n",
    "    slope=0\n",
    "    intercept=0\n",
    "    for j in range(l):\n",
    "        intercept=intercept+((m*x[j]+c)-y[j])\n",
    "        slope=slope+((m*x[j]+c)-y[j])*x[j]\n",
    "    c=c-((alpha*intercept)/l)\n",
    "    m=m-((alpha*slope)/l)\n",
    "    c_values.append(c)\n",
    "    m_values.append(m)"
   ]
  },
  {
   "cell_type": "code",
   "execution_count": 8,
   "metadata": {},
   "outputs": [
    {
     "name": "stdout",
     "output_type": "stream",
     "text": [
      "slope is 9450.704878460741\n",
      "intercept is 25787.196304094174\n"
     ]
    }
   ],
   "source": [
    "print(f\"slope is {m}\")\n",
    "print(f\"intercept is {c}\")"
   ]
  },
  {
   "cell_type": "code",
   "execution_count": 9,
   "metadata": {},
   "outputs": [
    {
     "data": {
      "image/png": "[encoded data removed]",
      "text/plain": [
       "<Figure size 432x288 with 1 Axes>"
      ]
     },
     "metadata": {
      "needs_background": "light"
     },
     "output_type": "display_data"
    }
   ],
   "source": [
    "plt.plot(m_values[:],c_values[:],marker='o',\n",
    "         color='blue',markerfacecolor='red',\n",
    "         markersize=10,linestyle='dashed')\n",
    "plt.xlabel(\"slope\")\n",
    "plt.ylabel(\"intercept\")\n",
    "plt.title(\"convex function or bowl shape\")\n",
    "plt.show()"
   ]
  },
  {
   "cell_type": "code",
   "execution_count": 10,
   "metadata": {},
   "outputs": [
    {
     "name": "stdout",
     "output_type": "stream",
     "text": [
      "[36182.97167040099, 123129.45655223982, 116513.96313731729, 54139.3109394764, 75875.9321599361, 82491.42557485863, 56029.45191516855, 53194.24045163032]\n"
     ]
    }
   ],
   "source": [
    "y_pred=[]\n",
    "for i in x_test:\n",
    "    v=m*i+c\n",
    "    y_pred.append(v)\n",
    "print(y_pred)"
   ]
  },
  {
   "cell_type": "code",
   "execution_count": 11,
   "metadata": {},
   "outputs": [
    {
     "data": {
      "image/png": "[encoded data removed]",
      "text/plain": [
       "<Figure size 432x288 with 1 Axes>"
      ]
     },
     "metadata": {
      "needs_background": "light"
     },
     "output_type": "display_data"
    }
   ],
   "source": [
    "plt.plot(x_test,y_pred,marker='o',\n",
    "         color='blue',markerfacecolor='red',\n",
    "         markersize=10,linestyle='dashed')\n",
    "plt.scatter(x,y,marker='o',color='red')\n",
    "plt.xlabel(\"age\")\n",
    "plt.ylabel(\"slaary\")\n",
    "plt.title(\"linear regression with one variable\")\n",
    "plt.show()"
   ]
  },
  {
   "cell_type": "markdown",
   "metadata": {},
   "source": [
    "cost function\n",
    "\n",
    "$ \\displaystyle J(\\theta_0,\\theta_1)=\\frac{1}{2m}\\sum_{i=1}^{m} \\left(h_{\\theta}(x^{(i)})-y^{(i)}\\right)^2 $"
   ]
  },
  {
   "cell_type": "code",
   "execution_count": 12,
   "metadata": {},
   "outputs": [
    {
     "name": "stdout",
     "output_type": "stream",
     "text": [
      "error is 16199196.737432456\n"
     ]
    }
   ],
   "source": [
    "def cost_function():\n",
    "    t=0\n",
    "    for i in range(len(y_pred)):\n",
    "        t=t+(y_pred[i]-y_test[i])**2\n",
    "    error=t/(2*len(y_pred))\n",
    "    print(f\"error is {error}\")\n",
    "cost_function()"
   ]
  }
 ],
 "metadata": {
  "kernelspec": {
   "display_name": "Python 3",
   "language": "python",
   "name": "python3"
  },
  "language_info": {
   "codemirror_mode": {
    "name": "ipython",
    "version": 3
   },
   "file_extension": ".py",
   "mimetype": "text/x-python",
   "name": "python",
   "nbconvert_exporter": "python",
   "pygments_lexer": "ipython3",
   "version": "3.7.3"
  }
 },
 "nbformat": 4,
 "nbformat_minor": 2
}
